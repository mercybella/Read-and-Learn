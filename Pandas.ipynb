{
 "cells": [
  {
   "cell_type": "code",
   "execution_count": 4,
   "id": "0ede71cc",
   "metadata": {},
   "outputs": [],
   "source": [
    "import pandas as pd\n"
   ]
  },
  {
   "cell_type": "code",
   "execution_count": 2,
   "id": "03769e90",
   "metadata": {},
   "outputs": [
    {
     "data": {
      "text/html": [
       "<div>\n",
       "<style scoped>\n",
       "    .dataframe tbody tr th:only-of-type {\n",
       "        vertical-align: middle;\n",
       "    }\n",
       "\n",
       "    .dataframe tbody tr th {\n",
       "        vertical-align: top;\n",
       "    }\n",
       "\n",
       "    .dataframe thead th {\n",
       "        text-align: right;\n",
       "    }\n",
       "</style>\n",
       "<table border=\"1\" class=\"dataframe\">\n",
       "  <thead>\n",
       "    <tr style=\"text-align: right;\">\n",
       "      <th></th>\n",
       "      <th>Yes</th>\n",
       "      <th>No</th>\n",
       "    </tr>\n",
       "  </thead>\n",
       "  <tbody>\n",
       "    <tr>\n",
       "      <th>0</th>\n",
       "      <td>50</td>\n",
       "      <td>25</td>\n",
       "    </tr>\n",
       "    <tr>\n",
       "      <th>1</th>\n",
       "      <td>42</td>\n",
       "      <td>21</td>\n",
       "    </tr>\n",
       "  </tbody>\n",
       "</table>\n",
       "</div>"
      ],
      "text/plain": [
       "   Yes  No\n",
       "0   50  25\n",
       "1   42  21"
      ]
     },
     "execution_count": 2,
     "metadata": {},
     "output_type": "execute_result"
    }
   ],
   "source": [
    "#create a dataframe from scratch\n",
    "pd.DataFrame({'Yes': [50,42], 'No': [25, 21]})"
   ]
  },
  {
   "cell_type": "code",
   "execution_count": 5,
   "id": "ce356dbc",
   "metadata": {},
   "outputs": [
    {
     "data": {
      "text/html": [
       "<div>\n",
       "<style scoped>\n",
       "    .dataframe tbody tr th:only-of-type {\n",
       "        vertical-align: middle;\n",
       "    }\n",
       "\n",
       "    .dataframe tbody tr th {\n",
       "        vertical-align: top;\n",
       "    }\n",
       "\n",
       "    .dataframe thead th {\n",
       "        text-align: right;\n",
       "    }\n",
       "</style>\n",
       "<table border=\"1\" class=\"dataframe\">\n",
       "  <thead>\n",
       "    <tr style=\"text-align: right;\">\n",
       "      <th></th>\n",
       "      <th>Nkem</th>\n",
       "      <th>Ola</th>\n",
       "    </tr>\n",
       "  </thead>\n",
       "  <tbody>\n",
       "    <tr>\n",
       "      <th>0</th>\n",
       "      <td>Oha</td>\n",
       "      <td>Ewedu</td>\n",
       "    </tr>\n",
       "    <tr>\n",
       "      <th>1</th>\n",
       "      <td>Fufu</td>\n",
       "      <td>Amala</td>\n",
       "    </tr>\n",
       "  </tbody>\n",
       "</table>\n",
       "</div>"
      ],
      "text/plain": [
       "   Nkem    Ola\n",
       "0   Oha  Ewedu\n",
       "1  Fufu  Amala"
      ]
     },
     "execution_count": 5,
     "metadata": {},
     "output_type": "execute_result"
    }
   ],
   "source": [
    "#dataframes can also be strings\n",
    "pd.DataFrame({'Nkem': ['Oha', 'Fufu'], 'Ola': ['Ewedu', 'Amala']})"
   ]
  },
  {
   "cell_type": "code",
   "execution_count": 6,
   "id": "32d9a259",
   "metadata": {},
   "outputs": [
    {
     "data": {
      "text/html": [
       "<div>\n",
       "<style scoped>\n",
       "    .dataframe tbody tr th:only-of-type {\n",
       "        vertical-align: middle;\n",
       "    }\n",
       "\n",
       "    .dataframe tbody tr th {\n",
       "        vertical-align: top;\n",
       "    }\n",
       "\n",
       "    .dataframe thead th {\n",
       "        text-align: right;\n",
       "    }\n",
       "</style>\n",
       "<table border=\"1\" class=\"dataframe\">\n",
       "  <thead>\n",
       "    <tr style=\"text-align: right;\">\n",
       "      <th></th>\n",
       "      <th>Nkem</th>\n",
       "      <th>Ola</th>\n",
       "    </tr>\n",
       "  </thead>\n",
       "  <tbody>\n",
       "    <tr>\n",
       "      <th>Favorite Soup</th>\n",
       "      <td>Oha</td>\n",
       "      <td>Ewedu</td>\n",
       "    </tr>\n",
       "    <tr>\n",
       "      <th>Favorite Swallow</th>\n",
       "      <td>Fufu</td>\n",
       "      <td>Amala</td>\n",
       "    </tr>\n",
       "  </tbody>\n",
       "</table>\n",
       "</div>"
      ],
      "text/plain": [
       "                  Nkem    Ola\n",
       "Favorite Soup      Oha  Ewedu\n",
       "Favorite Swallow  Fufu  Amala"
      ]
     },
     "execution_count": 6,
     "metadata": {},
     "output_type": "execute_result"
    }
   ],
   "source": [
    "#to assign row labels, use the argument \"index\"\n",
    "pd.DataFrame({'Nkem': ['Oha', 'Fufu'], 'Ola': ['Ewedu', 'Amala']}, index= ['Favorite Soup', 'Favorite Swallow'])"
   ]
  },
  {
   "cell_type": "code",
   "execution_count": 7,
   "id": "a37b2173",
   "metadata": {},
   "outputs": [
    {
     "data": {
      "text/plain": [
       "0    1\n",
       "1    2\n",
       "2    3\n",
       "3    4\n",
       "4    5\n",
       "dtype: int64"
      ]
     },
     "execution_count": 7,
     "metadata": {},
     "output_type": "execute_result"
    }
   ],
   "source": [
    "#to create a series\n",
    "pd.Series([1,2,3,4,5])"
   ]
  },
  {
   "cell_type": "code",
   "execution_count": 8,
   "id": "d0f479c6",
   "metadata": {},
   "outputs": [
    {
     "data": {
      "text/plain": [
       "0       Beans\n",
       "1        Rice\n",
       "2         Yam\n",
       "3    Plantain\n",
       "dtype: object"
      ]
     },
     "execution_count": 8,
     "metadata": {},
     "output_type": "execute_result"
    }
   ],
   "source": [
    "#a series can also be made up of strings\n",
    "pd.Series(['Beans', 'Rice', 'Yam', 'Plantain'])"
   ]
  },
  {
   "cell_type": "code",
   "execution_count": 9,
   "id": "f102d060",
   "metadata": {},
   "outputs": [
    {
     "data": {
      "text/plain": [
       "Red Balls      50\n",
       "White Balls    25\n",
       "Green Balls    35\n",
       "dtype: int64"
      ]
     },
     "execution_count": 9,
     "metadata": {},
     "output_type": "execute_result"
    }
   ],
   "source": [
    "#we can also assign row labels to a series using \"index\"\n",
    "pd.Series([50,25,35], index=['Red Balls', 'White Balls', 'Green Balls'])"
   ]
  },
  {
   "cell_type": "code",
   "execution_count": 10,
   "id": "ef2320fa",
   "metadata": {},
   "outputs": [],
   "source": [
    "#pd.read_csv to read or import a csv file\n",
    "substances= pd.read_csv('substances.csv')"
   ]
  },
  {
   "cell_type": "code",
   "execution_count": 12,
   "id": "bbf789af",
   "metadata": {},
   "outputs": [
    {
     "data": {
      "text/plain": [
       "(61, 2)"
      ]
     },
     "execution_count": 12,
     "metadata": {},
     "output_type": "execute_result"
    }
   ],
   "source": [
    "#shape to show the size of the file, how many rows and how many columns\n",
    "substances.shape"
   ]
  },
  {
   "cell_type": "code",
   "execution_count": 13,
   "id": "f57b1bc2",
   "metadata": {},
   "outputs": [
    {
     "data": {
      "text/html": [
       "<div>\n",
       "<style scoped>\n",
       "    .dataframe tbody tr th:only-of-type {\n",
       "        vertical-align: middle;\n",
       "    }\n",
       "\n",
       "    .dataframe tbody tr th {\n",
       "        vertical-align: top;\n",
       "    }\n",
       "\n",
       "    .dataframe thead th {\n",
       "        text-align: right;\n",
       "    }\n",
       "</style>\n",
       "<table border=\"1\" class=\"dataframe\">\n",
       "  <thead>\n",
       "    <tr style=\"text-align: right;\">\n",
       "      <th></th>\n",
       "      <th>zinc_id</th>\n",
       "      <th>smiles</th>\n",
       "    </tr>\n",
       "  </thead>\n",
       "  <tbody>\n",
       "    <tr>\n",
       "      <th>0</th>\n",
       "      <td>ZINC000017129255</td>\n",
       "      <td>C[C@@H](O)[C@@H](O)c1cnc2nc(N)[nH]c(=O)c2n1</td>\n",
       "    </tr>\n",
       "    <tr>\n",
       "      <th>1</th>\n",
       "      <td>ZINC000017129259</td>\n",
       "      <td>C[C@@H](O)[C@H](O)c1cnc2nc(N)[nH]c(=O)c2n1</td>\n",
       "    </tr>\n",
       "    <tr>\n",
       "      <th>2</th>\n",
       "      <td>ZINC000017129257</td>\n",
       "      <td>C[C@H](O)[C@@H](O)c1cnc2nc(N)[nH]c(=O)c2n1</td>\n",
       "    </tr>\n",
       "    <tr>\n",
       "      <th>3</th>\n",
       "      <td>ZINC000018275062</td>\n",
       "      <td>C[C@H](O)[C@H](O)c1cnc2nc(N)[nH]c(=O)c2n1</td>\n",
       "    </tr>\n",
       "    <tr>\n",
       "      <th>4</th>\n",
       "      <td>ZINC000006694123</td>\n",
       "      <td>CSc1nc2ncc([C@@H](O)[C@@H](C)O)nc2c(=O)[nH]1</td>\n",
       "    </tr>\n",
       "  </tbody>\n",
       "</table>\n",
       "</div>"
      ],
      "text/plain": [
       "            zinc_id                                        smiles\n",
       "0  ZINC000017129255   C[C@@H](O)[C@@H](O)c1cnc2nc(N)[nH]c(=O)c2n1\n",
       "1  ZINC000017129259    C[C@@H](O)[C@H](O)c1cnc2nc(N)[nH]c(=O)c2n1\n",
       "2  ZINC000017129257    C[C@H](O)[C@@H](O)c1cnc2nc(N)[nH]c(=O)c2n1\n",
       "3  ZINC000018275062     C[C@H](O)[C@H](O)c1cnc2nc(N)[nH]c(=O)c2n1\n",
       "4  ZINC000006694123  CSc1nc2ncc([C@@H](O)[C@@H](C)O)nc2c(=O)[nH]1"
      ]
     },
     "execution_count": 13,
     "metadata": {},
     "output_type": "execute_result"
    }
   ],
   "source": [
    "substances.head()"
   ]
  },
  {
   "cell_type": "code",
   "execution_count": 14,
   "id": "df9c1073",
   "metadata": {},
   "outputs": [],
   "source": [
    "#to specify what column should be your index column\n",
    "sub= pd.read_csv('substances.csv', index_col=0)"
   ]
  },
  {
   "cell_type": "code",
   "execution_count": 15,
   "id": "1f71b5e5",
   "metadata": {},
   "outputs": [
    {
     "data": {
      "text/html": [
       "<div>\n",
       "<style scoped>\n",
       "    .dataframe tbody tr th:only-of-type {\n",
       "        vertical-align: middle;\n",
       "    }\n",
       "\n",
       "    .dataframe tbody tr th {\n",
       "        vertical-align: top;\n",
       "    }\n",
       "\n",
       "    .dataframe thead th {\n",
       "        text-align: right;\n",
       "    }\n",
       "</style>\n",
       "<table border=\"1\" class=\"dataframe\">\n",
       "  <thead>\n",
       "    <tr style=\"text-align: right;\">\n",
       "      <th></th>\n",
       "      <th>smiles</th>\n",
       "    </tr>\n",
       "    <tr>\n",
       "      <th>zinc_id</th>\n",
       "      <th></th>\n",
       "    </tr>\n",
       "  </thead>\n",
       "  <tbody>\n",
       "    <tr>\n",
       "      <th>ZINC000017129255</th>\n",
       "      <td>C[C@@H](O)[C@@H](O)c1cnc2nc(N)[nH]c(=O)c2n1</td>\n",
       "    </tr>\n",
       "    <tr>\n",
       "      <th>ZINC000017129259</th>\n",
       "      <td>C[C@@H](O)[C@H](O)c1cnc2nc(N)[nH]c(=O)c2n1</td>\n",
       "    </tr>\n",
       "    <tr>\n",
       "      <th>ZINC000017129257</th>\n",
       "      <td>C[C@H](O)[C@@H](O)c1cnc2nc(N)[nH]c(=O)c2n1</td>\n",
       "    </tr>\n",
       "    <tr>\n",
       "      <th>ZINC000018275062</th>\n",
       "      <td>C[C@H](O)[C@H](O)c1cnc2nc(N)[nH]c(=O)c2n1</td>\n",
       "    </tr>\n",
       "    <tr>\n",
       "      <th>ZINC000006694123</th>\n",
       "      <td>CSc1nc2ncc([C@@H](O)[C@@H](C)O)nc2c(=O)[nH]1</td>\n",
       "    </tr>\n",
       "  </tbody>\n",
       "</table>\n",
       "</div>"
      ],
      "text/plain": [
       "                                                        smiles\n",
       "zinc_id                                                       \n",
       "ZINC000017129255   C[C@@H](O)[C@@H](O)c1cnc2nc(N)[nH]c(=O)c2n1\n",
       "ZINC000017129259    C[C@@H](O)[C@H](O)c1cnc2nc(N)[nH]c(=O)c2n1\n",
       "ZINC000017129257    C[C@H](O)[C@@H](O)c1cnc2nc(N)[nH]c(=O)c2n1\n",
       "ZINC000018275062     C[C@H](O)[C@H](O)c1cnc2nc(N)[nH]c(=O)c2n1\n",
       "ZINC000006694123  CSc1nc2ncc([C@@H](O)[C@@H](C)O)nc2c(=O)[nH]1"
      ]
     },
     "execution_count": 15,
     "metadata": {},
     "output_type": "execute_result"
    }
   ],
   "source": [
    "sub.head()"
   ]
  },
  {
   "cell_type": "code",
   "execution_count": 16,
   "id": "ec9f6b99",
   "metadata": {},
   "outputs": [
    {
     "data": {
      "text/plain": [
       "0       C[C@@H](O)[C@@H](O)c1cnc2nc(N)[nH]c(=O)c2n1\n",
       "1        C[C@@H](O)[C@H](O)c1cnc2nc(N)[nH]c(=O)c2n1\n",
       "2        C[C@H](O)[C@@H](O)c1cnc2nc(N)[nH]c(=O)c2n1\n",
       "3         C[C@H](O)[C@H](O)c1cnc2nc(N)[nH]c(=O)c2n1\n",
       "4      CSc1nc2ncc([C@@H](O)[C@@H](C)O)nc2c(=O)[nH]1\n",
       "                          ...                      \n",
       "56    Nc1nc2c(c(=O)[nH]1)N=C([C@H](O)[C@H](O)CO)CN2\n",
       "57    Nc1nc2c(c(=O)[nH]1)NC([C@H](O)[C@H](O)CO)=CN2\n",
       "58                  Nc1nc(O)c2nc([C@@H](O)CO)cnc2n1\n",
       "59            C/C(O)=C(/O)C1=Nc2c(nc(N)[nH]c2=O)NC1\n",
       "60                       CC(C)Cc1cnc2nc(N)nc(N)c2n1\n",
       "Name: smiles, Length: 61, dtype: object"
      ]
     },
     "execution_count": 16,
     "metadata": {},
     "output_type": "execute_result"
    }
   ],
   "source": [
    "#to call a specific column by its property\n",
    "substances.smiles"
   ]
  },
  {
   "cell_type": "code",
   "execution_count": 17,
   "id": "cbec58ba",
   "metadata": {},
   "outputs": [
    {
     "data": {
      "text/plain": [
       "0       C[C@@H](O)[C@@H](O)c1cnc2nc(N)[nH]c(=O)c2n1\n",
       "1        C[C@@H](O)[C@H](O)c1cnc2nc(N)[nH]c(=O)c2n1\n",
       "2        C[C@H](O)[C@@H](O)c1cnc2nc(N)[nH]c(=O)c2n1\n",
       "3         C[C@H](O)[C@H](O)c1cnc2nc(N)[nH]c(=O)c2n1\n",
       "4      CSc1nc2ncc([C@@H](O)[C@@H](C)O)nc2c(=O)[nH]1\n",
       "                          ...                      \n",
       "56    Nc1nc2c(c(=O)[nH]1)N=C([C@H](O)[C@H](O)CO)CN2\n",
       "57    Nc1nc2c(c(=O)[nH]1)NC([C@H](O)[C@H](O)CO)=CN2\n",
       "58                  Nc1nc(O)c2nc([C@@H](O)CO)cnc2n1\n",
       "59            C/C(O)=C(/O)C1=Nc2c(nc(N)[nH]c2=O)NC1\n",
       "60                       CC(C)Cc1cnc2nc(N)nc(N)c2n1\n",
       "Name: smiles, Length: 61, dtype: object"
      ]
     },
     "execution_count": 17,
     "metadata": {},
     "output_type": "execute_result"
    }
   ],
   "source": [
    "#to call a specific column by its column name\n",
    "substances['smiles']"
   ]
  },
  {
   "cell_type": "code",
   "execution_count": 18,
   "id": "12ea4d88",
   "metadata": {},
   "outputs": [
    {
     "data": {
      "text/plain": [
       "'C[C@@H](O)[C@@H](O)c1cnc2nc(N)[nH]c(=O)c2n1'"
      ]
     },
     "execution_count": 18,
     "metadata": {},
     "output_type": "execute_result"
    }
   ],
   "source": [
    "#to call the specific row of a specific column\n",
    "substances['smiles'][0]"
   ]
  },
  {
   "cell_type": "code",
   "execution_count": 19,
   "id": "5af402d0",
   "metadata": {},
   "outputs": [
    {
     "data": {
      "text/plain": [
       "zinc_id                               ZINC000017129255\n",
       "smiles     C[C@@H](O)[C@@H](O)c1cnc2nc(N)[nH]c(=O)c2n1\n",
       "Name: 0, dtype: object"
      ]
     },
     "execution_count": 19,
     "metadata": {},
     "output_type": "execute_result"
    }
   ],
   "source": [
    "#to select the first row of any data\n",
    "substances.iloc[0]"
   ]
  },
  {
   "cell_type": "code",
   "execution_count": null,
   "id": "65891375",
   "metadata": {},
   "outputs": [],
   "source": []
  }
 ],
 "metadata": {
  "kernelspec": {
   "display_name": "Python 3 (ipykernel)",
   "language": "python",
   "name": "python3"
  },
  "language_info": {
   "codemirror_mode": {
    "name": "ipython",
    "version": 3
   },
   "file_extension": ".py",
   "mimetype": "text/x-python",
   "name": "python",
   "nbconvert_exporter": "python",
   "pygments_lexer": "ipython3",
   "version": "3.9.7"
  }
 },
 "nbformat": 4,
 "nbformat_minor": 5
}
